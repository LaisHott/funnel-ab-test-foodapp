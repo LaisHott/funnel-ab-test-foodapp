{
  "cells": [
    {
      "cell_type": "markdown",
      "metadata": {
        "id": "view-in-github",
        "colab_type": "text"
      },
      "source": [
        "<a href=\"https://colab.research.google.com/github/LaisHott/funnel-ab-test-foodapp/blob/main/Notebook_Projeto_10.ipynb\" target=\"_parent\"><img src=\"https://colab.research.google.com/assets/colab-badge.svg\" alt=\"Open In Colab\"/></a>"
      ]
    },
    {
      "cell_type": "markdown",
      "metadata": {
        "id": "7kO_aN3bviY9"
      },
      "source": [
        "# Análise de Comportamento do Usuário e Teste A/A/B em um Aplicativo de Produtos Alimentícios\n",
        "\n",
        "Este projeto é conduzido em uma startup que opera na venda de produtos alimentícios por meio de um aplicativo. Nosso objetivo é analisar o comportamento dos usuários no aplicativo, desde o momento em que entram até a conclusão de uma compra. Através do estudo do funil de vendas, investigaremos como os usuários interagem com diferentes etapas, quantos atingem a fase de compra e onde ocorrem quedas significativas. Além disso, estamos realizando um teste A/A/B para avaliar a possível introdução de novas fontes no aplicativo. Dividindo os usuários em grupos de controle e teste, buscaremos identificar se as mudanças de design afetam positivamente a experiência do usuário e as conversões. Através dessas análises, pretendemos tomar decisões embasadas para otimizar a usabilidade do aplicativo e melhorar as taxas de conversão."
      ]
    },
    {
      "cell_type": "markdown",
      "metadata": {
        "id": "z8zeltgQviY9"
      },
      "source": [
        "# Inicialização\n",
        "\n",
        "Vamos começar com as bibliotecas necessárias relevantes para nossa análise."
      ]
    },
    {
      "cell_type": "code",
      "execution_count": null,
      "metadata": {
        "id": "lfftqiiCviY9"
      },
      "outputs": [],
      "source": [
        "# Carregando bibliotecas\n",
        "import pandas as pd\n",
        "import matplotlib.pyplot as plt\n",
        "import seaborn as sns\n",
        "from scipy import stats\n",
        "from scipy.stats import ks_2samp\n",
        "from scipy.stats import chi2_contingency\n",
        "import numpy as np"
      ]
    },
    {
      "cell_type": "markdown",
      "metadata": {
        "id": "boXiEcBjviY-"
      },
      "source": [
        "## Passo 1 - Abra o arquivo de dados e leia a informação geral\n",
        "\n",
        "***Descrição dos dados***:\n",
        "\n",
        "Cada entrada de diário é uma ação do usuário ou um evento.\n",
        "\n",
        "`EventName` — Nome do evento\n",
        "\n",
        "`DeviceIDHash` — Identificador de usuário exclusivo\n",
        "\n",
        "`EventTimestamp` — Hora do evento\n",
        "\n",
        "`ExpId` — Número do experimento: 246 e 247 são os grupos de controle, 248 é o grupo de teste"
      ]
    },
    {
      "cell_type": "markdown",
      "metadata": {
        "id": "2EiXsvzsviY-"
      },
      "source": [
        "### Carregando os dados\n",
        "\n",
        "Vamos armazenar os dados em variáveis específicas e, em seguida, otimizá-los para a análise, certificando-nos de que cada coluna contenha o tipo correto de dados."
      ]
    },
    {
      "cell_type": "code",
      "execution_count": null,
      "metadata": {
        "id": "vY4t-kTWviY-"
      },
      "outputs": [],
      "source": [
        "# Carregando os dados\n",
        "diary_event = pd.read_csv('/datasets/logs_exp_us.csv', sep='\\t')"
      ]
    },
    {
      "cell_type": "code",
      "execution_count": null,
      "metadata": {
        "id": "Uq1ptN6lviY-",
        "outputId": "c24c8bc0-6e95-4abe-f299-99f3cf2783a9"
      },
      "outputs": [
        {
          "name": "stdout",
          "output_type": "stream",
          "text": [
            "<class 'pandas.core.frame.DataFrame'>\n",
            "RangeIndex: 244126 entries, 0 to 244125\n",
            "Data columns (total 4 columns):\n",
            " #   Column          Non-Null Count   Dtype \n",
            "---  ------          --------------   ----- \n",
            " 0   EventName       244126 non-null  object\n",
            " 1   DeviceIDHash    244126 non-null  int64 \n",
            " 2   EventTimestamp  244126 non-null  int64 \n",
            " 3   ExpId           244126 non-null  int64 \n",
            "dtypes: int64(3), object(1)\n",
            "memory usage: 22.9 MB\n"
          ]
        }
      ],
      "source": [
        "# Analisando informações detalhadas sobre o dataframe\n",
        "diary_event.info(memory_usage='deep')"
      ]
    },
    {
      "cell_type": "code",
      "execution_count": null,
      "metadata": {
        "id": "DvcQ1TA7viY-",
        "outputId": "9946eff7-537e-4836-ae51-078af590f5cf"
      },
      "outputs": [
        {
          "data": {
            "text/html": [
              "<div>\n",
              "<style scoped>\n",
              "    .dataframe tbody tr th:only-of-type {\n",
              "        vertical-align: middle;\n",
              "    }\n",
              "\n",
              "    .dataframe tbody tr th {\n",
              "        vertical-align: top;\n",
              "    }\n",
              "\n",
              "    .dataframe thead th {\n",
              "        text-align: right;\n",
              "    }\n",
              "</style>\n",
              "<table border=\"1\" class=\"dataframe\">\n",
              "  <thead>\n",
              "    <tr style=\"text-align: right;\">\n",
              "      <th></th>\n",
              "      <th>EventName</th>\n",
              "      <th>DeviceIDHash</th>\n",
              "      <th>EventTimestamp</th>\n",
              "      <th>ExpId</th>\n",
              "    </tr>\n",
              "  </thead>\n",
              "  <tbody>\n",
              "    <tr>\n",
              "      <th>0</th>\n",
              "      <td>MainScreenAppear</td>\n",
              "      <td>4575588528974610257</td>\n",
              "      <td>1564029816</td>\n",
              "      <td>246</td>\n",
              "    </tr>\n",
              "    <tr>\n",
              "      <th>1</th>\n",
              "      <td>MainScreenAppear</td>\n",
              "      <td>7416695313311560658</td>\n",
              "      <td>1564053102</td>\n",
              "      <td>246</td>\n",
              "    </tr>\n",
              "    <tr>\n",
              "      <th>2</th>\n",
              "      <td>PaymentScreenSuccessful</td>\n",
              "      <td>3518123091307005509</td>\n",
              "      <td>1564054127</td>\n",
              "      <td>248</td>\n",
              "    </tr>\n",
              "    <tr>\n",
              "      <th>3</th>\n",
              "      <td>CartScreenAppear</td>\n",
              "      <td>3518123091307005509</td>\n",
              "      <td>1564054127</td>\n",
              "      <td>248</td>\n",
              "    </tr>\n",
              "    <tr>\n",
              "      <th>4</th>\n",
              "      <td>PaymentScreenSuccessful</td>\n",
              "      <td>6217807653094995999</td>\n",
              "      <td>1564055322</td>\n",
              "      <td>248</td>\n",
              "    </tr>\n",
              "  </tbody>\n",
              "</table>\n",
              "</div>"
            ],
            "text/plain": [
              "                 EventName         DeviceIDHash  EventTimestamp  ExpId\n",
              "0         MainScreenAppear  4575588528974610257      1564029816    246\n",
              "1         MainScreenAppear  7416695313311560658      1564053102    246\n",
              "2  PaymentScreenSuccessful  3518123091307005509      1564054127    248\n",
              "3         CartScreenAppear  3518123091307005509      1564054127    248\n",
              "4  PaymentScreenSuccessful  6217807653094995999      1564055322    248"
            ]
          },
          "execution_count": 4,
          "metadata": {},
          "output_type": "execute_result"
        }
      ],
      "source": [
        "# Verificando as primeiras linhas do Dataframe\n",
        "diary_event.head()"
      ]
    },
    {
      "cell_type": "markdown",
      "metadata": {
        "id": "6xe-CXlwviY-"
      },
      "source": [
        "## Passo 2. Prepare os dados para análise\n",
        "\n",
        "Vamos preparar os dados, renomeando as colunas para respeitar o padrão Python. Precisamos verificar se há valores ausentes e se os tipos de dados estão corretos.\n",
        "\n",
        "Vamos adicionar uma coluna de data e hora e uma coluna separada para datas."
      ]
    },
    {
      "cell_type": "code",
      "execution_count": null,
      "metadata": {
        "id": "sQAD5PGwviY-"
      },
      "outputs": [],
      "source": [
        "# Renomeando as colunas\n",
        "diary_event.rename(columns={'EventName': 'event_name', 'DeviceIDHash': 'device_id_hash',\n",
        "                            'EventTimestamp': 'event_timestamp', 'ExpId': 'exp_id'}, inplace=True)\n"
      ]
    },
    {
      "cell_type": "code",
      "execution_count": null,
      "metadata": {
        "id": "bblTvTNCviY_",
        "outputId": "3442ba0f-8e78-4793-c2f2-96ef401ce014"
      },
      "outputs": [
        {
          "data": {
            "text/html": [
              "<div>\n",
              "<style scoped>\n",
              "    .dataframe tbody tr th:only-of-type {\n",
              "        vertical-align: middle;\n",
              "    }\n",
              "\n",
              "    .dataframe tbody tr th {\n",
              "        vertical-align: top;\n",
              "    }\n",
              "\n",
              "    .dataframe thead th {\n",
              "        text-align: right;\n",
              "    }\n",
              "</style>\n",
              "<table border=\"1\" class=\"dataframe\">\n",
              "  <thead>\n",
              "    <tr style=\"text-align: right;\">\n",
              "      <th></th>\n",
              "      <th>event_name</th>\n",
              "      <th>device_id_hash</th>\n",
              "      <th>event_timestamp</th>\n",
              "      <th>exp_id</th>\n",
              "    </tr>\n",
              "  </thead>\n",
              "  <tbody>\n",
              "    <tr>\n",
              "      <th>0</th>\n",
              "      <td>MainScreenAppear</td>\n",
              "      <td>4575588528974610257</td>\n",
              "      <td>1564029816</td>\n",
              "      <td>246</td>\n",
              "    </tr>\n",
              "    <tr>\n",
              "      <th>1</th>\n",
              "      <td>MainScreenAppear</td>\n",
              "      <td>7416695313311560658</td>\n",
              "      <td>1564053102</td>\n",
              "      <td>246</td>\n",
              "    </tr>\n",
              "    <tr>\n",
              "      <th>2</th>\n",
              "      <td>PaymentScreenSuccessful</td>\n",
              "      <td>3518123091307005509</td>\n",
              "      <td>1564054127</td>\n",
              "      <td>248</td>\n",
              "    </tr>\n",
              "    <tr>\n",
              "      <th>3</th>\n",
              "      <td>CartScreenAppear</td>\n",
              "      <td>3518123091307005509</td>\n",
              "      <td>1564054127</td>\n",
              "      <td>248</td>\n",
              "    </tr>\n",
              "    <tr>\n",
              "      <th>4</th>\n",
              "      <td>PaymentScreenSuccessful</td>\n",
              "      <td>6217807653094995999</td>\n",
              "      <td>1564055322</td>\n",
              "      <td>248</td>\n",
              "    </tr>\n",
              "  </tbody>\n",
              "</table>\n",
              "</div>"
            ],
            "text/plain": [
              "                event_name       device_id_hash  event_timestamp  exp_id\n",
              "0         MainScreenAppear  4575588528974610257       1564029816     246\n",
              "1         MainScreenAppear  7416695313311560658       1564053102     246\n",
              "2  PaymentScreenSuccessful  3518123091307005509       1564054127     248\n",
              "3         CartScreenAppear  3518123091307005509       1564054127     248\n",
              "4  PaymentScreenSuccessful  6217807653094995999       1564055322     248"
            ]
          },
          "execution_count": 6,
          "metadata": {},
          "output_type": "execute_result"
        }
      ],
      "source": [
        "# Verificando dataframe após renomear as colunas\n",
        "diary_event.head()"
      ]
    },
    {
      "cell_type": "code",
      "execution_count": null,
      "metadata": {
        "id": "uVdNBAcMviY_",
        "outputId": "af254312-d4af-435e-d998-f75084284faf"
      },
      "outputs": [
        {
          "data": {
            "text/html": [
              "<div>\n",
              "<style scoped>\n",
              "    .dataframe tbody tr th:only-of-type {\n",
              "        vertical-align: middle;\n",
              "    }\n",
              "\n",
              "    .dataframe tbody tr th {\n",
              "        vertical-align: top;\n",
              "    }\n",
              "\n",
              "    .dataframe thead th {\n",
              "        text-align: right;\n",
              "    }\n",
              "</style>\n",
              "<table border=\"1\" class=\"dataframe\">\n",
              "  <thead>\n",
              "    <tr style=\"text-align: right;\">\n",
              "      <th></th>\n",
              "      <th>event_name</th>\n",
              "      <th>device_id_hash</th>\n",
              "      <th>event_timestamp</th>\n",
              "      <th>exp_id</th>\n",
              "    </tr>\n",
              "  </thead>\n",
              "  <tbody>\n",
              "    <tr>\n",
              "      <th>54817</th>\n",
              "      <td>CartScreenAppear</td>\n",
              "      <td>4623191541214045580</td>\n",
              "      <td>1564746333</td>\n",
              "      <td>247</td>\n",
              "    </tr>\n",
              "    <tr>\n",
              "      <th>171660</th>\n",
              "      <td>CartScreenAppear</td>\n",
              "      <td>147514000526855717</td>\n",
              "      <td>1565028133</td>\n",
              "      <td>248</td>\n",
              "    </tr>\n",
              "    <tr>\n",
              "      <th>171658</th>\n",
              "      <td>CartScreenAppear</td>\n",
              "      <td>2305766456715991733</td>\n",
              "      <td>1565028127</td>\n",
              "      <td>248</td>\n",
              "    </tr>\n",
              "    <tr>\n",
              "      <th>59316</th>\n",
              "      <td>CartScreenAppear</td>\n",
              "      <td>4207391824763599753</td>\n",
              "      <td>1564753932</td>\n",
              "      <td>247</td>\n",
              "    </tr>\n",
              "    <tr>\n",
              "      <th>171646</th>\n",
              "      <td>CartScreenAppear</td>\n",
              "      <td>147514000526855717</td>\n",
              "      <td>1565028088</td>\n",
              "      <td>248</td>\n",
              "    </tr>\n",
              "    <tr>\n",
              "      <th>...</th>\n",
              "      <td>...</td>\n",
              "      <td>...</td>\n",
              "      <td>...</td>\n",
              "      <td>...</td>\n",
              "    </tr>\n",
              "    <tr>\n",
              "      <th>33530</th>\n",
              "      <td>Tutorial</td>\n",
              "      <td>3755777888701401447</td>\n",
              "      <td>1564683541</td>\n",
              "      <td>247</td>\n",
              "    </tr>\n",
              "    <tr>\n",
              "      <th>31919</th>\n",
              "      <td>Tutorial</td>\n",
              "      <td>6279514806004087328</td>\n",
              "      <td>1564681000</td>\n",
              "      <td>247</td>\n",
              "    </tr>\n",
              "    <tr>\n",
              "      <th>155146</th>\n",
              "      <td>Tutorial</td>\n",
              "      <td>1266450414894434600</td>\n",
              "      <td>1565005188</td>\n",
              "      <td>247</td>\n",
              "    </tr>\n",
              "    <tr>\n",
              "      <th>232491</th>\n",
              "      <td>Tutorial</td>\n",
              "      <td>5208270606211794573</td>\n",
              "      <td>1565189508</td>\n",
              "      <td>248</td>\n",
              "    </tr>\n",
              "    <tr>\n",
              "      <th>152199</th>\n",
              "      <td>Tutorial</td>\n",
              "      <td>2071063976199331598</td>\n",
              "      <td>1565000313</td>\n",
              "      <td>247</td>\n",
              "    </tr>\n",
              "  </tbody>\n",
              "</table>\n",
              "<p>244126 rows × 4 columns</p>\n",
              "</div>"
            ],
            "text/plain": [
              "              event_name       device_id_hash  event_timestamp  exp_id\n",
              "54817   CartScreenAppear  4623191541214045580       1564746333     247\n",
              "171660  CartScreenAppear   147514000526855717       1565028133     248\n",
              "171658  CartScreenAppear  2305766456715991733       1565028127     248\n",
              "59316   CartScreenAppear  4207391824763599753       1564753932     247\n",
              "171646  CartScreenAppear   147514000526855717       1565028088     248\n",
              "...                  ...                  ...              ...     ...\n",
              "33530           Tutorial  3755777888701401447       1564683541     247\n",
              "31919           Tutorial  6279514806004087328       1564681000     247\n",
              "155146          Tutorial  1266450414894434600       1565005188     247\n",
              "232491          Tutorial  5208270606211794573       1565189508     248\n",
              "152199          Tutorial  2071063976199331598       1565000313     247\n",
              "\n",
              "[244126 rows x 4 columns]"
            ]
          },
          "execution_count": 7,
          "metadata": {},
          "output_type": "execute_result"
        }
      ],
      "source": [
        "diary_event.sort_values(by='event_name')"
      ]
    },
    {
      "cell_type": "code",
      "execution_count": null,
      "metadata": {
        "id": "nn5ViCEtviY_",
        "outputId": "5379d966-61bb-455e-d526-edb138da03a0"
      },
      "outputs": [
        {
          "data": {
            "text/plain": [
              "event_name         0\n",
              "device_id_hash     0\n",
              "event_timestamp    0\n",
              "exp_id             0\n",
              "dtype: int64"
            ]
          },
          "execution_count": 8,
          "metadata": {},
          "output_type": "execute_result"
        }
      ],
      "source": [
        "# Verificando valores ausentes e duplicados\n",
        "diary_event.isna().sum()"
      ]
    },
    {
      "cell_type": "code",
      "execution_count": null,
      "metadata": {
        "id": "jK8MCLDMviY_",
        "outputId": "7f6e19c7-62e9-48eb-882a-77ac5feb3c68"
      },
      "outputs": [
        {
          "data": {
            "text/plain": [
              "413"
            ]
          },
          "execution_count": 9,
          "metadata": {},
          "output_type": "execute_result"
        }
      ],
      "source": [
        "# Verificando valores duplicados\n",
        "diary_event.duplicated().sum()"
      ]
    },
    {
      "cell_type": "code",
      "execution_count": null,
      "metadata": {
        "id": "ELYCE9QrviY_"
      },
      "outputs": [],
      "source": [
        "# Processando os duplicados\n",
        "diary_event.drop_duplicates(inplace=True)"
      ]
    },
    {
      "cell_type": "code",
      "execution_count": null,
      "metadata": {
        "id": "Xt0XlXsvviY_",
        "outputId": "d7bef3f0-d107-4ae9-c08d-0c961a3bae23"
      },
      "outputs": [
        {
          "name": "stdout",
          "output_type": "stream",
          "text": [
            "<class 'pandas.core.frame.DataFrame'>\n",
            "Int64Index: 243713 entries, 0 to 244125\n",
            "Data columns (total 4 columns):\n",
            " #   Column           Non-Null Count   Dtype \n",
            "---  ------           --------------   ----- \n",
            " 0   event_name       243713 non-null  object\n",
            " 1   device_id_hash   243713 non-null  int64 \n",
            " 2   event_timestamp  243713 non-null  int64 \n",
            " 3   exp_id           243713 non-null  int64 \n",
            "dtypes: int64(3), object(1)\n",
            "memory usage: 9.3+ MB\n"
          ]
        }
      ],
      "source": [
        "# Verificando Dataframe após remoção das duplicatas\n",
        "diary_event.info()"
      ]
    },
    {
      "cell_type": "markdown",
      "metadata": {
        "id": "NNjyoY8ZviY_"
      },
      "source": [
        "A coluna `event_timestamp` está sendo tratadas como int em vez do tipo de dado mais apropriado, como carimbo de data/hora. Vamos corrigir os tipos de dados para tipos mais apropriados."
      ]
    },
    {
      "cell_type": "code",
      "execution_count": null,
      "metadata": {
        "id": "-JRWgjmrviZA"
      },
      "outputs": [],
      "source": [
        "# Corrigindo os tipos de dados adequados\n",
        "diary_event['event_timestamp'] = diary_event['event_timestamp'].astype('datetime64[ns]')"
      ]
    },
    {
      "cell_type": "code",
      "execution_count": null,
      "metadata": {
        "id": "jIPwce2iviZA",
        "outputId": "a6c45dcd-7453-4480-d4fb-a5db194cc749"
      },
      "outputs": [
        {
          "name": "stdout",
          "output_type": "stream",
          "text": [
            "<class 'pandas.core.frame.DataFrame'>\n",
            "Int64Index: 243713 entries, 0 to 244125\n",
            "Data columns (total 4 columns):\n",
            " #   Column           Non-Null Count   Dtype         \n",
            "---  ------           --------------   -----         \n",
            " 0   event_name       243713 non-null  object        \n",
            " 1   device_id_hash   243713 non-null  int64         \n",
            " 2   event_timestamp  243713 non-null  datetime64[ns]\n",
            " 3   exp_id           243713 non-null  int64         \n",
            "dtypes: datetime64[ns](1), int64(2), object(1)\n",
            "memory usage: 9.3+ MB\n"
          ]
        }
      ],
      "source": [
        "# Verificando a correção\n",
        "diary_event.info()"
      ]
    },
    {
      "cell_type": "code",
      "execution_count": null,
      "metadata": {
        "id": "mXrgriqTviZA",
        "outputId": "4be58cad-9077-46a5-9425-a8b0c53aae39"
      },
      "outputs": [
        {
          "data": {
            "text/html": [
              "<div>\n",
              "<style scoped>\n",
              "    .dataframe tbody tr th:only-of-type {\n",
              "        vertical-align: middle;\n",
              "    }\n",
              "\n",
              "    .dataframe tbody tr th {\n",
              "        vertical-align: top;\n",
              "    }\n",
              "\n",
              "    .dataframe thead th {\n",
              "        text-align: right;\n",
              "    }\n",
              "</style>\n",
              "<table border=\"1\" class=\"dataframe\">\n",
              "  <thead>\n",
              "    <tr style=\"text-align: right;\">\n",
              "      <th></th>\n",
              "      <th>event_name</th>\n",
              "      <th>device_id_hash</th>\n",
              "      <th>event_timestamp</th>\n",
              "      <th>exp_id</th>\n",
              "    </tr>\n",
              "  </thead>\n",
              "  <tbody>\n",
              "    <tr>\n",
              "      <th>0</th>\n",
              "      <td>MainScreenAppear</td>\n",
              "      <td>4575588528974610257</td>\n",
              "      <td>1970-01-01 00:00:01.564029816</td>\n",
              "      <td>246</td>\n",
              "    </tr>\n",
              "    <tr>\n",
              "      <th>1</th>\n",
              "      <td>MainScreenAppear</td>\n",
              "      <td>7416695313311560658</td>\n",
              "      <td>1970-01-01 00:00:01.564053102</td>\n",
              "      <td>246</td>\n",
              "    </tr>\n",
              "    <tr>\n",
              "      <th>2</th>\n",
              "      <td>PaymentScreenSuccessful</td>\n",
              "      <td>3518123091307005509</td>\n",
              "      <td>1970-01-01 00:00:01.564054127</td>\n",
              "      <td>248</td>\n",
              "    </tr>\n",
              "    <tr>\n",
              "      <th>3</th>\n",
              "      <td>CartScreenAppear</td>\n",
              "      <td>3518123091307005509</td>\n",
              "      <td>1970-01-01 00:00:01.564054127</td>\n",
              "      <td>248</td>\n",
              "    </tr>\n",
              "    <tr>\n",
              "      <th>4</th>\n",
              "      <td>PaymentScreenSuccessful</td>\n",
              "      <td>6217807653094995999</td>\n",
              "      <td>1970-01-01 00:00:01.564055322</td>\n",
              "      <td>248</td>\n",
              "    </tr>\n",
              "  </tbody>\n",
              "</table>\n",
              "</div>"
            ],
            "text/plain": [
              "                event_name       device_id_hash               event_timestamp  \\\n",
              "0         MainScreenAppear  4575588528974610257 1970-01-01 00:00:01.564029816   \n",
              "1         MainScreenAppear  7416695313311560658 1970-01-01 00:00:01.564053102   \n",
              "2  PaymentScreenSuccessful  3518123091307005509 1970-01-01 00:00:01.564054127   \n",
              "3         CartScreenAppear  3518123091307005509 1970-01-01 00:00:01.564054127   \n",
              "4  PaymentScreenSuccessful  6217807653094995999 1970-01-01 00:00:01.564055322   \n",
              "\n",
              "   exp_id  \n",
              "0     246  \n",
              "1     246  \n",
              "2     248  \n",
              "3     248  \n",
              "4     248  "
            ]
          },
          "execution_count": 14,
          "metadata": {},
          "output_type": "execute_result"
        }
      ],
      "source": [
        "diary_event.head()"
      ]
    },
    {
      "cell_type": "markdown",
      "metadata": {
        "id": "6yyALe2-viZA"
      },
      "source": [
        "- O fato de não encontrar valores faltantes pode ser fundamental para garantir a integridade das análises estatísticas e das conclusões delas decorrentes. No nosso conjunto de dados, não identificamos valores ausentes e, em relação aos dados duplicados, optamos por removê-los."
      ]
    },
    {
      "cell_type": "markdown",
      "metadata": {
        "id": "bAk_S61VviZA"
      },
      "source": [
        "- Vamos adicionar uma coluna de data e hora e uma coluna separada para datas. A coluna `eventTimestamp` convertida em carimbos de data/hora e uma nova coluna date que contém apenas a data sem a parte de hora."
      ]
    },
    {
      "cell_type": "code",
      "execution_count": null,
      "metadata": {
        "id": "siddsrIfviZA"
      },
      "outputs": [],
      "source": [
        "# Adicionando uma coluna separada para datas\n",
        "diary_event['date'] = diary_event['event_timestamp'].dt.date"
      ]
    },
    {
      "cell_type": "code",
      "execution_count": null,
      "metadata": {
        "id": "sEyJCljiviZA"
      },
      "outputs": [],
      "source": [
        "# Adicionando uma coluna separada para data e hora\n",
        "diary_event['date_time'] = diary_event['event_timestamp'].dt.strftime('%Y-%m-%d %H:%M:%S')"
      ]
    },
    {
      "cell_type": "code",
      "execution_count": null,
      "metadata": {
        "id": "D_a6KTPmviZA",
        "outputId": "d7ffb70d-f9b7-4319-948a-63080863a9a1"
      },
      "outputs": [
        {
          "data": {
            "text/html": [
              "<div>\n",
              "<style scoped>\n",
              "    .dataframe tbody tr th:only-of-type {\n",
              "        vertical-align: middle;\n",
              "    }\n",
              "\n",
              "    .dataframe tbody tr th {\n",
              "        vertical-align: top;\n",
              "    }\n",
              "\n",
              "    .dataframe thead th {\n",
              "        text-align: right;\n",
              "    }\n",
              "</style>\n",
              "<table border=\"1\" class=\"dataframe\">\n",
              "  <thead>\n",
              "    <tr style=\"text-align: right;\">\n",
              "      <th></th>\n",
              "      <th>event_name</th>\n",
              "      <th>device_id_hash</th>\n",
              "      <th>event_timestamp</th>\n",
              "      <th>exp_id</th>\n",
              "      <th>date</th>\n",
              "      <th>date_time</th>\n",
              "    </tr>\n",
              "  </thead>\n",
              "  <tbody>\n",
              "    <tr>\n",
              "      <th>0</th>\n",
              "      <td>MainScreenAppear</td>\n",
              "      <td>4575588528974610257</td>\n",
              "      <td>1970-01-01 00:00:01.564029816</td>\n",
              "      <td>246</td>\n",
              "      <td>1970-01-01</td>\n",
              "      <td>1970-01-01 00:00:01</td>\n",
              "    </tr>\n",
              "    <tr>\n",
              "      <th>1</th>\n",
              "      <td>MainScreenAppear</td>\n",
              "      <td>7416695313311560658</td>\n",
              "      <td>1970-01-01 00:00:01.564053102</td>\n",
              "      <td>246</td>\n",
              "      <td>1970-01-01</td>\n",
              "      <td>1970-01-01 00:00:01</td>\n",
              "    </tr>\n",
              "    <tr>\n",
              "      <th>2</th>\n",
              "      <td>PaymentScreenSuccessful</td>\n",
              "      <td>3518123091307005509</td>\n",
              "      <td>1970-01-01 00:00:01.564054127</td>\n",
              "      <td>248</td>\n",
              "      <td>1970-01-01</td>\n",
              "      <td>1970-01-01 00:00:01</td>\n",
              "    </tr>\n",
              "    <tr>\n",
              "      <th>3</th>\n",
              "      <td>CartScreenAppear</td>\n",
              "      <td>3518123091307005509</td>\n",
              "      <td>1970-01-01 00:00:01.564054127</td>\n",
              "      <td>248</td>\n",
              "      <td>1970-01-01</td>\n",
              "      <td>1970-01-01 00:00:01</td>\n",
              "    </tr>\n",
              "    <tr>\n",
              "      <th>4</th>\n",
              "      <td>PaymentScreenSuccessful</td>\n",
              "      <td>6217807653094995999</td>\n",
              "      <td>1970-01-01 00:00:01.564055322</td>\n",
              "      <td>248</td>\n",
              "      <td>1970-01-01</td>\n",
              "      <td>1970-01-01 00:00:01</td>\n",
              "    </tr>\n",
              "  </tbody>\n",
              "</table>\n",
              "</div>"
            ],
            "text/plain": [
              "                event_name       device_id_hash               event_timestamp  \\\n",
              "0         MainScreenAppear  4575588528974610257 1970-01-01 00:00:01.564029816   \n",
              "1         MainScreenAppear  7416695313311560658 1970-01-01 00:00:01.564053102   \n",
              "2  PaymentScreenSuccessful  3518123091307005509 1970-01-01 00:00:01.564054127   \n",
              "3         CartScreenAppear  3518123091307005509 1970-01-01 00:00:01.564054127   \n",
              "4  PaymentScreenSuccessful  6217807653094995999 1970-01-01 00:00:01.564055322   \n",
              "\n",
              "   exp_id        date            date_time  \n",
              "0     246  1970-01-01  1970-01-01 00:00:01  \n",
              "1     246  1970-01-01  1970-01-01 00:00:01  \n",
              "2     248  1970-01-01  1970-01-01 00:00:01  \n",
              "3     248  1970-01-01  1970-01-01 00:00:01  \n",
              "4     248  1970-01-01  1970-01-01 00:00:01  "
            ]
          },
          "execution_count": 17,
          "metadata": {},
          "output_type": "execute_result"
        }
      ],
      "source": [
        "# Analisando a nova coluna criada\n",
        "diary_event.head()"
      ]
    },
    {
      "cell_type": "markdown",
      "metadata": {
        "id": "KcAqsw1kviZA"
      },
      "source": [
        "- Com os dados processados, otimizados e tipos corretamente ajustados, estamos prontos para iniciar nossas análises."
      ]
    },
    {
      "cell_type": "markdown",
      "metadata": {
        "id": "KXdowsGAviZA"
      },
      "source": [
        "## Passo 3. Estude e verifique os dados"
      ]
    },
    {
      "cell_type": "markdown",
      "metadata": {
        "id": "JBlhRADmviZA"
      },
      "source": [
        "### Quantos eventos ficam nos diários?\n",
        "\n",
        "Para determinar quantos eventos estão presentes nos diários, podemos usar a função *count()* do pandas na coluna `event_name`. Isso contará o número de eventos registrados no conjunto de dados."
      ]
    },
    {
      "cell_type": "code",
      "execution_count": null,
      "metadata": {
        "id": "PscDAk5NviZA"
      },
      "outputs": [],
      "source": [
        "# Calculando o número total de eventos registrados nos diários\n",
        "total_events = diary_event['event_name'].count()"
      ]
    },
    {
      "cell_type": "code",
      "execution_count": null,
      "metadata": {
        "id": "K8lHYErvviZB",
        "outputId": "2f63b467-2ee2-43f3-e9c4-0dc1814430a4"
      },
      "outputs": [
        {
          "name": "stdout",
          "output_type": "stream",
          "text": [
            "Total de eventos nos diários: 243713\n"
          ]
        }
      ],
      "source": [
        "# Imprimindo o resultado\n",
        "print(\"Total de eventos nos diários:\", total_events)"
      ]
    },
    {
      "cell_type": "markdown",
      "metadata": {
        "id": "UdH1KLdaviZB"
      },
      "source": [
        "### Quantos usuários ficam nos diários?\n",
        "\n",
        "Para determinar o número de usuários únicos presentes nos diários, podemos usar a função *nunique()* na coluna `device_id_hash`. Isso contará o número de identificadores únicos de usuários registrados no conjunto de dado."
      ]
    },
    {
      "cell_type": "code",
      "execution_count": null,
      "metadata": {
        "id": "9V7W74OmviZB"
      },
      "outputs": [],
      "source": [
        "# Calculando o número total de eventos registados nos diários\n",
        "total_users = diary_event['device_id_hash'].nunique()"
      ]
    },
    {
      "cell_type": "code",
      "execution_count": null,
      "metadata": {
        "id": "jzQy5sNVviZB",
        "outputId": "02806745-b837-42e0-bc2e-0581571be4e4"
      },
      "outputs": [
        {
          "name": "stdout",
          "output_type": "stream",
          "text": [
            "Total de usuários nos diários: 7551\n"
          ]
        }
      ],
      "source": [
        "# Imprimindo o resultado\n",
        "print(\"Total de usuários nos diários:\", total_users)"
      ]
    },
    {
      "cell_type": "markdown",
      "metadata": {
        "id": "3DcrZN2jviZB"
      },
      "source": [
        "### Qual é o número médio de eventos por usuário?\n",
        "\n",
        "Para calcular o número médio de eventos por usuário, podemos dividir o total de eventos pelo número total de usuários únicos."
      ]
    },
    {
      "cell_type": "code",
      "execution_count": null,
      "metadata": {
        "id": "zttnwm1wviZB"
      },
      "outputs": [],
      "source": [
        "# Calculando o número médio de eventos por usuário\n",
        "average_events_per_user = total_events / total_users"
      ]
    },
    {
      "cell_type": "code",
      "execution_count": null,
      "metadata": {
        "id": "WcV65hzDviZB",
        "outputId": "982dc6d6-23ff-4d53-be97-09cb2f140be0"
      },
      "outputs": [
        {
          "name": "stdout",
          "output_type": "stream",
          "text": [
            "Número médio de eventos por usuário: 32.276\n"
          ]
        }
      ],
      "source": [
        "# Imprimindo o resultado\n",
        "print(\"Número médio de eventos por usuário:\", average_events_per_user.round(3))"
      ]
    },
    {
      "cell_type": "markdown",
      "metadata": {
        "id": "_OfCcrY9viZC"
      },
      "source": [
        "### Qual é o período de tempo que os dados cobrem? Encontre a data máxima e mínima. Desenhe um histograma por data e hora. Você pode ter certeza de que possui os dados igualmente completos para todo o período? Os eventos mais antigos podem acabar aparecendo nos diários de alguns usuários por motivos técnicos, e isso pode distorcer o quadro geral. Encontre o momento em que os dados começam a ser completos e ignore a seção anterior. Qual período os dados realmente representam?"
      ]
    },
    {
      "cell_type": "markdown",
      "metadata": {
        "id": "EaM92zaDviZC"
      },
      "source": [
        "####  Encontrar o período de tempo que os dados cobrem (data máxima e mínima):\n",
        "Vamos usar as funções *min()* e *max()* no pandas para encontrar a data mínima e máxima nos dados."
      ]
    },
    {
      "cell_type": "code",
      "execution_count": null,
      "metadata": {
        "id": "zmVoTvbdviZC"
      },
      "outputs": [],
      "source": [
        "# Encontrando as datas máx e mínima\n",
        "data_min = diary_event['event_timestamp'].min()\n",
        "data_max = diary_event['event_timestamp'].max()"
      ]
    },
    {
      "cell_type": "code",
      "execution_count": null,
      "metadata": {
        "id": "7VZizqjNviZC",
        "outputId": "d0b13a79-bb5f-4df2-8f1c-0004ac16b39c"
      },
      "outputs": [
        {
          "name": "stdout",
          "output_type": "stream",
          "text": [
            "Data mínima: 1970-01-01 00:00:01.564029816\n",
            "Data máxima: 1970-01-01 00:00:01.565212517\n"
          ]
        }
      ],
      "source": [
        "# Imprimindo o resultado\n",
        "print(\"Data mínima:\", data_min)\n",
        "print(\"Data máxima:\", data_max)"
      ]
    },
    {
      "cell_type": "markdown",
      "metadata": {
        "id": "459_groTviZC"
      },
      "source": [
        "#### Desenhar um histograma por data e hora:\n",
        "Para criar um histograma da distribuição dos eventos ao longo do tempo, podemos usar a biblioteca matplotlib."
      ]
    },
    {
      "cell_type": "code",
      "execution_count": null,
      "metadata": {
        "id": "RzfH881NviZC",
        "outputId": "24cb0676-aad6-4abf-f5bd-cce3aeb3632f"
      },
      "outputs": [
        {
          "data": {
            "image/png": "[encoded data removed]",
            "text/plain": [
              "<Figure size 720x432 with 1 Axes>"
            ]
          },
          "metadata": {
            "needs_background": "light"
          },
          "output_type": "display_data"
        }
      ],
      "source": [
        "# Criando o histograma\n",
        "plt.figure(figsize=(10, 6))\n",
        "diary_event['event_timestamp'].hist(bins=50)\n",
        "plt.title(\"Histograma por Data e Hora\")\n",
        "plt.xlabel(\"Data e Hora\")\n",
        "plt.ylabel(\"Número de Eventos\")\n",
        "plt.show()"
      ]
    },
    {
      "cell_type": "markdown",
      "metadata": {
        "id": "jDHh7u3tviZC"
      },
      "source": [
        "Para identificar o momento em que os dados começam a ser mais completos e ignorar a seção anterior, podemos definir um ponto de corte com base na distribuição do histograma. Isso pode ser feito identificando onde a contagem de eventos começa a aumentar significativamente. Ao analisar o histograma, podemos perceber uma área onde os dados eram escassos e, em seguida, começam a ser mais frequentes. Essa é a região em que os dados se tornam mais completos.\n",
        "\n",
        "Nesse caso a região que os dados começam a ser mais consistentes e confiáveis a partir de cerca das 00:01:5645 até um pouco depois de 00:01:5652."
      ]
    },
    {
      "cell_type": "code",
      "execution_count": null,
      "metadata": {
        "id": "u79u4ko2viZC"
      },
      "outputs": [],
      "source": [
        "# Definindo o período confiável\n",
        "start_time = pd.Timestamp('1970-01-01 00:00:01.564')\n",
        "end_time = pd.Timestamp('1970-01-01 00:00:01.565')"
      ]
    },
    {
      "cell_type": "code",
      "execution_count": null,
      "metadata": {
        "id": "MstszuB3viZC"
      },
      "outputs": [],
      "source": [
        "# Filtrando os dados para o período confiável\n",
        "filtered_diary = diary_event[(diary_event['event_timestamp'] >= start_time) & (diary_event['event_timestamp'] <= end_time)]"
      ]
    },
    {
      "cell_type": "code",
      "execution_count": null,
      "metadata": {
        "id": "lP-TrK9gviZC",
        "outputId": "1542576d-51cd-4bae-94cb-9346f0ca408e"
      },
      "outputs": [
        {
          "data": {
            "text/html": [
              "<div>\n",
              "<style scoped>\n",
              "    .dataframe tbody tr th:only-of-type {\n",
              "        vertical-align: middle;\n",
              "    }\n",
              "\n",
              "    .dataframe tbody tr th {\n",
              "        vertical-align: top;\n",
              "    }\n",
              "\n",
              "    .dataframe thead th {\n",
              "        text-align: right;\n",
              "    }\n",
              "</style>\n",
              "<table border=\"1\" class=\"dataframe\">\n",
              "  <thead>\n",
              "    <tr style=\"text-align: right;\">\n",
              "      <th></th>\n",
              "      <th>event_name</th>\n",
              "      <th>device_id_hash</th>\n",
              "      <th>event_timestamp</th>\n",
              "      <th>exp_id</th>\n",
              "      <th>date</th>\n",
              "      <th>date_time</th>\n",
              "    </tr>\n",
              "  </thead>\n",
              "  <tbody>\n",
              "    <tr>\n",
              "      <th>0</th>\n",
              "      <td>MainScreenAppear</td>\n",
              "      <td>4575588528974610257</td>\n",
              "      <td>1970-01-01 00:00:01.564029816</td>\n",
              "      <td>246</td>\n",
              "      <td>1970-01-01</td>\n",
              "      <td>1970-01-01 00:00:01</td>\n",
              "    </tr>\n",
              "    <tr>\n",
              "      <th>1</th>\n",
              "      <td>MainScreenAppear</td>\n",
              "      <td>7416695313311560658</td>\n",
              "      <td>1970-01-01 00:00:01.564053102</td>\n",
              "      <td>246</td>\n",
              "      <td>1970-01-01</td>\n",
              "      <td>1970-01-01 00:00:01</td>\n",
              "    </tr>\n",
              "    <tr>\n",
              "      <th>2</th>\n",
              "      <td>PaymentScreenSuccessful</td>\n",
              "      <td>3518123091307005509</td>\n",
              "      <td>1970-01-01 00:00:01.564054127</td>\n",
              "      <td>248</td>\n",
              "      <td>1970-01-01</td>\n",
              "      <td>1970-01-01 00:00:01</td>\n",
              "    </tr>\n",
              "    <tr>\n",
              "      <th>3</th>\n",
              "      <td>CartScreenAppear</td>\n",
              "      <td>3518123091307005509</td>\n",
              "      <td>1970-01-01 00:00:01.564054127</td>\n",
              "      <td>248</td>\n",
              "      <td>1970-01-01</td>\n",
              "      <td>1970-01-01 00:00:01</td>\n",
              "    </tr>\n",
              "    <tr>\n",
              "      <th>4</th>\n",
              "      <td>PaymentScreenSuccessful</td>\n",
              "      <td>6217807653094995999</td>\n",
              "      <td>1970-01-01 00:00:01.564055322</td>\n",
              "      <td>248</td>\n",
              "      <td>1970-01-01</td>\n",
              "      <td>1970-01-01 00:00:01</td>\n",
              "    </tr>\n",
              "    <tr>\n",
              "      <th>...</th>\n",
              "      <td>...</td>\n",
              "      <td>...</td>\n",
              "      <td>...</td>\n",
              "      <td>...</td>\n",
              "      <td>...</td>\n",
              "      <td>...</td>\n",
              "    </tr>\n",
              "    <tr>\n",
              "      <th>151990</th>\n",
              "      <td>MainScreenAppear</td>\n",
              "      <td>5029307351429818425</td>\n",
              "      <td>1970-01-01 00:00:01.564999995</td>\n",
              "      <td>248</td>\n",
              "      <td>1970-01-01</td>\n",
              "      <td>1970-01-01 00:00:01</td>\n",
              "    </tr>\n",
              "    <tr>\n",
              "      <th>151991</th>\n",
              "      <td>CartScreenAppear</td>\n",
              "      <td>3911101470526499807</td>\n",
              "      <td>1970-01-01 00:00:01.564999996</td>\n",
              "      <td>247</td>\n",
              "      <td>1970-01-01</td>\n",
              "      <td>1970-01-01 00:00:01</td>\n",
              "    </tr>\n",
              "    <tr>\n",
              "      <th>151992</th>\n",
              "      <td>CartScreenAppear</td>\n",
              "      <td>1100007125648169445</td>\n",
              "      <td>1970-01-01 00:00:01.564999998</td>\n",
              "      <td>248</td>\n",
              "      <td>1970-01-01</td>\n",
              "      <td>1970-01-01 00:00:01</td>\n",
              "    </tr>\n",
              "    <tr>\n",
              "      <th>151993</th>\n",
              "      <td>PaymentScreenSuccessful</td>\n",
              "      <td>1100007125648169445</td>\n",
              "      <td>1970-01-01 00:00:01.564999998</td>\n",
              "      <td>248</td>\n",
              "      <td>1970-01-01</td>\n",
              "      <td>1970-01-01 00:00:01</td>\n",
              "    </tr>\n",
              "    <tr>\n",
              "      <th>151994</th>\n",
              "      <td>OffersScreenAppear</td>\n",
              "      <td>5029307351429818425</td>\n",
              "      <td>1970-01-01 00:00:01.564999999</td>\n",
              "      <td>248</td>\n",
              "      <td>1970-01-01</td>\n",
              "      <td>1970-01-01 00:00:01</td>\n",
              "    </tr>\n",
              "  </tbody>\n",
              "</table>\n",
              "<p>151709 rows × 6 columns</p>\n",
              "</div>"
            ],
            "text/plain": [
              "                     event_name       device_id_hash  \\\n",
              "0              MainScreenAppear  4575588528974610257   \n",
              "1              MainScreenAppear  7416695313311560658   \n",
              "2       PaymentScreenSuccessful  3518123091307005509   \n",
              "3              CartScreenAppear  3518123091307005509   \n",
              "4       PaymentScreenSuccessful  6217807653094995999   \n",
              "...                         ...                  ...   \n",
              "151990         MainScreenAppear  5029307351429818425   \n",
              "151991         CartScreenAppear  3911101470526499807   \n",
              "151992         CartScreenAppear  1100007125648169445   \n",
              "151993  PaymentScreenSuccessful  1100007125648169445   \n",
              "151994       OffersScreenAppear  5029307351429818425   \n",
              "\n",
              "                     event_timestamp  exp_id        date            date_time  \n",
              "0      1970-01-01 00:00:01.564029816     246  1970-01-01  1970-01-01 00:00:01  \n",
              "1      1970-01-01 00:00:01.564053102     246  1970-01-01  1970-01-01 00:00:01  \n",
              "2      1970-01-01 00:00:01.564054127     248  1970-01-01  1970-01-01 00:00:01  \n",
              "3      1970-01-01 00:00:01.564054127     248  1970-01-01  1970-01-01 00:00:01  \n",
              "4      1970-01-01 00:00:01.564055322     248  1970-01-01  1970-01-01 00:00:01  \n",
              "...                              ...     ...         ...                  ...  \n",
              "151990 1970-01-01 00:00:01.564999995     248  1970-01-01  1970-01-01 00:00:01  \n",
              "151991 1970-01-01 00:00:01.564999996     247  1970-01-01  1970-01-01 00:00:01  \n",
              "151992 1970-01-01 00:00:01.564999998     248  1970-01-01  1970-01-01 00:00:01  \n",
              "151993 1970-01-01 00:00:01.564999998     248  1970-01-01  1970-01-01 00:00:01  \n",
              "151994 1970-01-01 00:00:01.564999999     248  1970-01-01  1970-01-01 00:00:01  \n",
              "\n",
              "[151709 rows x 6 columns]"
            ]
          },
          "execution_count": 29,
          "metadata": {},
          "output_type": "execute_result"
        }
      ],
      "source": [
        "# Exibindo os dados dentro do período confiável\n",
        "filtered_diary"
      ]
    },
    {
      "cell_type": "markdown",
      "metadata": {
        "id": "Vip0Q4D4viZC"
      },
      "source": [
        "## Você perdeu muitos eventos e usuários ao excluir os dados mais antigos?\n",
        "\n",
        "Ao filtrar os dados para o período confiável, reduzimos o número de linhas no DataFrame de 243713 para 151709. Ainda sim, sendo um quantidade bem relevante levando em conta todo o universo de dados.\n",
        "\n",
        "Estamos focando a análise do período de maior relevância, o que faz sentido considerando os objetivos específicos do projeto. Os eventos fora desse período não são essenciais para as análises.\n",
        "\n",
        "É importante sempre considerar o contexto do projeto e os objetivos da análise ao tomar decisões sobre a inclusão ou exclusão de dados. Nesse caso a filtragem para o período de maior relevância foi consistente com os meus objetivos, podemos prosseguir com as análises com confiança."
      ]
    },
    {
      "cell_type": "markdown",
      "metadata": {
        "id": "5R9NxoV3viZD"
      },
      "source": [
        "## Certifique-se de ter usuários de todos os três grupos experimentais."
      ]
    },
    {
      "cell_type": "code",
      "execution_count": null,
      "metadata": {
        "id": "Svh3TPJBviZD"
      },
      "outputs": [],
      "source": [
        "# Verificando a contagem de usuários por grupo experimental\n",
        "user_counts = diary_event['exp_id'].value_counts()"
      ]
    },
    {
      "cell_type": "code",
      "execution_count": null,
      "metadata": {
        "id": "nNGLiJNiviZD",
        "outputId": "c7908e63-ed2e-4bfb-d1f6-ce705ccc0465"
      },
      "outputs": [
        {
          "data": {
            "text/plain": [
              "248    85582\n",
              "246    80181\n",
              "247    77950\n",
              "Name: exp_id, dtype: int64"
            ]
          },
          "execution_count": 31,
          "metadata": {},
          "output_type": "execute_result"
        }
      ],
      "source": [
        "# Imprimindo a contagem de usuários por grupo experimental\n",
        "user_counts"
      ]
    },
    {
      "cell_type": "markdown",
      "metadata": {
        "id": "qIwLzbiEviZD"
      },
      "source": [
        "Temos usuários de todos os três grupos experimentais (246, 247 e 248) nos dados. As contagens indicam que o Grupo 248 tem 85582 usuários, o Grupo 246 tem 80181 usuários e o Grupo 247 tem 77950 usuários. Temos assim, uma distribuição equilibrada de usuários entre os grupos experimentais, o que é importante para a validade das análises."
      ]
    },
    {
      "cell_type": "markdown",
      "metadata": {
        "id": "KL5Yty0jviZD"
      },
      "source": [
        "## Passo 4. Estude o funil de eventos"
      ]
    },
    {
      "cell_type": "markdown",
      "metadata": {
        "id": "ULqvWbYmviZD"
      },
      "source": [
        "### Veja quais eventos estão nos diários e sua frequência de ocorrência. Classifique-os por frequência.\n",
        "\n",
        "Vamos contar a frequencia de ocorrência de cada evento na coluna `event_name`, classificá-los em ordem decrescente de frequência e exibir os eventos juntamente com suas respectivas frequências. Isso nos dará uma visão clara dos eventos mais comuns nos diários."
      ]
    },
    {
      "cell_type": "code",
      "execution_count": null,
      "metadata": {
        "id": "EbgoisfiviZD",
        "outputId": "d7e8ed03-1e1b-46ff-d7d2-2e1d04f8a12e"
      },
      "outputs": [
        {
          "data": {
            "text/plain": [
              "MainScreenAppear           119101\n",
              "OffersScreenAppear          46808\n",
              "CartScreenAppear            42668\n",
              "PaymentScreenSuccessful     34118\n",
              "Tutorial                     1018\n",
              "Name: event_name, dtype: int64"
            ]
          },
          "execution_count": 32,
          "metadata": {},
          "output_type": "execute_result"
        }
      ],
      "source": [
        "# Contando a frequência de ocorrência de cada evento\n",
        "event_counts = diary_event['event_name'].value_counts()\n",
        "event_counts"
      ]
    },
    {
      "cell_type": "code",
      "execution_count": null,
      "metadata": {
        "id": "WwUIjS7kviZD"
      },
      "outputs": [],
      "source": [
        "# Classificando os eventos por frequência\n",
        "event_counts_sorted = event_counts.sort_values(ascending=False)"
      ]
    },
    {
      "cell_type": "code",
      "execution_count": null,
      "metadata": {
        "id": "_U_6AMQgviZD",
        "outputId": "123561c4-4800-46d9-a849-c611cbbd0c9f"
      },
      "outputs": [
        {
          "name": "stdout",
          "output_type": "stream",
          "text": [
            "MainScreenAppear           119101\n",
            "OffersScreenAppear          46808\n",
            "CartScreenAppear            42668\n",
            "PaymentScreenSuccessful     34118\n",
            "Tutorial                     1018\n",
            "Name: event_name, dtype: int64\n"
          ]
        }
      ],
      "source": [
        "# Exibindo os eventos e suas frequências\n",
        "print(event_counts_sorted)"
      ]
    },
    {
      "cell_type": "markdown",
      "metadata": {
        "id": "3T1NEQYJviZD"
      },
      "source": [
        "Os resultados mostram a frequência de ocorrência de cada evento nos diários, classificados em ordem decrescente de frequência. Aqui estão os eventos e suas respectivas frequências:\n",
        "\n",
        "**MainScreenAppear:** 119101 ocorrências\n",
        "\n",
        "**OffersScreenAppear:** 46808 ocorrências\n",
        "\n",
        "**CartScreenAppear:** 42668 ocorrências\n",
        "\n",
        "**PaymentScreenSuccessful:** 34118 ocorrências\n",
        "\n",
        "**Tutorial**: 1018 ocorrências"
      ]
    },
    {
      "cell_type": "markdown",
      "metadata": {
        "id": "gWfvFrSSviZD"
      },
      "source": [
        "### Encontre o número de usuários que executaram cada uma dessas ações. Ordene os eventos pelo número de usuários. Calcule a proporção de usuários que executaram a ação pelo menos uma vez.\n",
        "\n",
        "Vamos calcular o número de usuários que executaram cada evento, ordenar os eventos pelo número de usuários, e calcular a proporção de usuários que executaram a ação pelo menos uma vez em relação ao total de usuários."
      ]
    },
    {
      "cell_type": "code",
      "execution_count": null,
      "metadata": {
        "id": "ExrjkS8SviZD",
        "outputId": "3ff9874e-4259-4966-a557-38583406107a"
      },
      "outputs": [
        {
          "data": {
            "text/plain": [
              "event_name\n",
              "CartScreenAppear           3749\n",
              "MainScreenAppear           7439\n",
              "OffersScreenAppear         4613\n",
              "PaymentScreenSuccessful    3547\n",
              "Tutorial                    847\n",
              "Name: device_id_hash, dtype: int64"
            ]
          },
          "execution_count": 35,
          "metadata": {},
          "output_type": "execute_result"
        }
      ],
      "source": [
        "# Encontrando o número de usuários que executaram cada evento\n",
        "users_per_event = diary_event.groupby('event_name')['device_id_hash'].nunique()\n",
        "users_per_event"
      ]
    },
    {
      "cell_type": "code",
      "execution_count": null,
      "metadata": {
        "id": "7k6P6-tZviZD",
        "outputId": "fe75565c-97d0-497c-bb21-31603ec4c551"
      },
      "outputs": [
        {
          "data": {
            "text/plain": [
              "event_name\n",
              "MainScreenAppear           7439\n",
              "OffersScreenAppear         4613\n",
              "CartScreenAppear           3749\n",
              "PaymentScreenSuccessful    3547\n",
              "Tutorial                    847\n",
              "Name: device_id_hash, dtype: int64"
            ]
          },
          "execution_count": 36,
          "metadata": {},
          "output_type": "execute_result"
        }
      ],
      "source": [
        "# Ordenando os eventos pelo número de usuários\n",
        "users_per_event_sorted = users_per_event.sort_values(ascending=False)\n",
        "users_per_event_sorted"
      ]
    },
    {
      "cell_type": "code",
      "execution_count": null,
      "metadata": {
        "id": "tdJsZUMWviZD"
      },
      "outputs": [],
      "source": [
        "# Calculando a proporção de usuários que executaram a ação pelo menos uma vez\n",
        "total_users = len(diary_event['device_id_hash'].unique())\n",
        "users_per_event_proportion = users_per_event_sorted / total_users"
      ]
    },
    {
      "cell_type": "code",
      "execution_count": null,
      "metadata": {
        "id": "QqTC522oviZD",
        "outputId": "15b80b5b-1676-4ae4-bfe0-36266c598e41"
      },
      "outputs": [
        {
          "name": "stdout",
          "output_type": "stream",
          "text": [
            "Número de usuários por evento:\n",
            "event_name\n",
            "MainScreenAppear           7439\n",
            "OffersScreenAppear         4613\n",
            "CartScreenAppear           3749\n",
            "PaymentScreenSuccessful    3547\n",
            "Tutorial                    847\n",
            "Name: device_id_hash, dtype: int64\n"
          ]
        }
      ],
      "source": [
        "# Exibindo os resultados\n",
        "print(\"Número de usuários por evento:\")\n",
        "print(users_per_event_sorted)"
      ]
    },
    {
      "cell_type": "code",
      "execution_count": null,
      "metadata": {
        "id": "YDbNfojWviZD",
        "outputId": "e5c5b30c-8ecf-4511-a81e-a6ef60066247"
      },
      "outputs": [
        {
          "name": "stdout",
          "output_type": "stream",
          "text": [
            "\n",
            "Proporção de usuários que executaram a ação pelo menos uma vez:\n",
            "event_name\n",
            "MainScreenAppear           0.985168\n",
            "OffersScreenAppear         0.610912\n",
            "CartScreenAppear           0.496491\n",
            "PaymentScreenSuccessful    0.469739\n",
            "Tutorial                   0.112171\n",
            "Name: device_id_hash, dtype: float64\n"
          ]
        }
      ],
      "source": [
        "print(\"\\nProporção de usuários que executaram a ação pelo menos uma vez:\")\n",
        "print(users_per_event_proportion)"
      ]
    },
    {
      "cell_type": "markdown",
      "metadata": {
        "id": "Tnguw0tQviZD"
      },
      "source": [
        "Os resultados mostram o número de usuários que executaram cada evento, bem como a proporção de usuários que realizaram a ação pelo menos uma vez.\n",
        "\n",
        "**Número de usuários por evento:**\n",
        "- MainScreenAppear: 7439 usuários\n",
        "- OffersScreenAppear: 4613 usuários\n",
        "- CartScreenAppear: 3749 usuários\n",
        "- PaymentScreenSuccessful: 3547 usuários\n",
        "- Tutorial: 847 usuários\n",
        "\n",
        "**Proporção de usuários que executaram a ação pelo menos uma vez:**\n",
        "- MainScreenAppear: 0.985168 (98.52%)\n",
        "- OffersScreenAppear: 0.610912 (61.09%)\n",
        "- CartScreenAppear: 0.496491 (49.65%)\n",
        "- PaymentScreenSuccessful: 0.469739 (46.97%)\n",
        "- Tutorial: 0.112171 (11.22%)\n",
        "\n",
        "Esses resultados fornecem uma compreensão clara de quantos usuários executaram cada evento e qual a proporção deles que realizou a ação pelo menos uma vez. Isso é útil para entender a taxa de engajamento dos usuários em cada etapa do funil."
      ]
    },
    {
      "cell_type": "markdown",
      "metadata": {
        "id": "7nT6G4hHviZD"
      },
      "source": [
        "### Em que ordem você acha que as ações ocorreram. Todos eles fazem parte de uma única sequência? Você não precisa levá-los em consideração ao calcular o funil."
      ]
    },
    {
      "cell_type": "markdown",
      "metadata": {
        "id": "kagyEBqZviZE"
      },
      "source": [
        "1. **MainScreenAppear**: A grande maioria dos usuários (98.52%) executou esta ação. Isso indica que quase todos os usuários acessaram a tela principal do aplicativo em algum momento.\n",
        "\n",
        "2. **OffersScreenAppear**: Cerca de 61.09% dos usuários executaram esta ação após acessarem a tela principal. Isso sugere que uma proporção menor dos usuários continua a navegar para a tela de ofertas após a tela principal.\n",
        "\n",
        "3. **CartScreenAppear**: Aproximadamente 49.65% dos usuários avançaram para a tela do carrinho de compras. Isso indica que menos da metade dos usuários que visualizaram as ofertas decidiram adicionar itens ao carrinho.\n",
        "\n",
        "4. **PaymentScreenSuccessful**: Cerca de 46.97% dos usuários que acessaram a tela do carrinho de compras concluíram com sucesso o pagamento. Isso significa que menos da metade dos usuários que adicionaram itens ao carrinho efetivamente finalizaram uma compra.\n",
        "\n",
        "5. **Tutorial**: Apenas 11.22% dos usuários executaram esta ação. Isso sugere que uma minoria dos usuários optou por acessar o tutorial.\n",
        "\n",
        "Com base nas proporções acima, podemos observar uma queda gradual nas taxas de conversão ao longo do funil. Isso é indicativo de que um grande número de usuários inicia o processo (visualizando a tela principal), mas a participação diminui à medida que avançam pelas etapas do funil, com uma porcentagem cada vez menor de usuários concluindo ações subsequentes, como adicionar itens ao carrinho ou realizar pagamentos."
      ]
    },
    {
      "cell_type": "markdown",
      "metadata": {
        "id": "lLC-JUUiviZE"
      },
      "source": [
        "Não é seguro presumir que todos os eventos fazem parte de uma única sequência fixa. Embora alguns eventos possam seguir uma ordem típica no fluxo de uso de um aplicativo, a jornada do usuário pode variar significativamente com base em suas preferências, necessidades e interações individuais.\n",
        "\n",
        "Enquanto o fluxo típico pode ser que os usuários passem da tela principal (MainScreenAppear) para a tela de ofertas (OffersScreenAppear), depois para o carrinho de compras (CartScreenAppear) e, finalmente, completem o pagamento com sucesso (PaymentScreenSuccessful), nem todos os usuários seguirão essa sequência exata."
      ]
    },
    {
      "cell_type": "markdown",
      "metadata": {
        "id": "t6ydSdeqviZE"
      },
      "source": [
        "## Use o funil de eventos para encontrar a parcela de usuários que passam de uma etapa para a próxima."
      ]
    },
    {
      "cell_type": "markdown",
      "metadata": {
        "id": "sc1OU_eQviZE"
      },
      "source": [
        "### Por exemplo, para a sequência de eventos A → B → C, calcule a proporção de usuários na etapa B para o número de usuários na etapa A e a proporção de usuários na etapa C para o número na etapa B.\n",
        "\n",
        "*Vamos calcular o funil de eventos*\n",
        "\n",
        "**Defir as Etapas do Funil**: Com base nos eventos que identificamos identificou (MainScreenAppear, OffersScreenAppear, CartScreenAppear, PaymentScreenSuccessful, Tutorial), podemos definir as etapas do funil em ordem.\n",
        "\n",
        "**Calcular as Taxas de Conversão**: Para calcular as taxas de conversão entre as etapas do funil, dividimos o número de usuários que realizaram a ação subsequente pelo número de usuários que realizaram a ação anterior e multiplicamos por 100 para obter a porcentagem.\n",
        "\n",
        "**Repetimos para Todas as Etapas**: Repetimos o passo anterior para calcular as taxas de conversão entre todas as etapas do funil.\n",
        "\n",
        "**Exibimos os Resultados**: Exiba as taxas de conversão entre as etapas do funil para entender como os usuários progridem ao longo do processo."
      ]
    },
    {
      "cell_type": "code",
      "execution_count": null,
      "metadata": {
        "id": "kPUdOJRBviZE"
      },
      "outputs": [],
      "source": [
        "# Definindo as etapas do funil\n",
        "funil_etapas = ['MainScreenAppear', 'OffersScreenAppear', 'CartScreenAppear', 'PaymentScreenSuccessful', 'Tutorial']"
      ]
    },
    {
      "cell_type": "code",
      "execution_count": null,
      "metadata": {
        "id": "JPOKyi2_viZE"
      },
      "outputs": [],
      "source": [
        "# Calculando as taxas de conversão\n",
        "taxas_de_conversao = []\n",
        "for i in range(len(funil_etapas) - 1):\n",
        "    etapa_atual = funil_etapas[i]\n",
        "    etapa_seguinte = funil_etapas[i + 1]\n",
        "\n",
        "    usuarios_etapa_atual = users_per_event[etapa_atual]\n",
        "    usuarios_etapa_seguinte = users_per_event[etapa_seguinte]\n",
        "\n",
        "    taxa_de_conversao = (usuarios_etapa_seguinte / usuarios_etapa_atual) * 100\n",
        "    taxas_de_conversao.append(taxa_de_conversao)"
      ]
    },
    {
      "cell_type": "code",
      "execution_count": null,
      "metadata": {
        "id": "PZTzsOavviZE",
        "outputId": "578a07d4-3d69-4a96-f980-79681dfd420c"
      },
      "outputs": [
        {
          "name": "stdout",
          "output_type": "stream",
          "text": [
            "Taxa de Conversão de MainScreenAppear para OffersScreenAppear: 62.01%\n",
            "Taxa de Conversão de OffersScreenAppear para CartScreenAppear: 81.27%\n",
            "Taxa de Conversão de CartScreenAppear para PaymentScreenSuccessful: 94.61%\n",
            "Taxa de Conversão de PaymentScreenSuccessful para Tutorial: 23.88%\n"
          ]
        }
      ],
      "source": [
        "# Exibindo os resultados\n",
        "for i in range(len(funil_etapas) - 1):\n",
        "    etapa_atual = funil_etapas[i]\n",
        "    etapa_seguinte = funil_etapas[i + 1]\n",
        "    taxa_de_conversao = taxas_de_conversao[i]\n",
        "\n",
        "    print(f\"Taxa de Conversão de {etapa_atual} para {etapa_seguinte}: {taxa_de_conversao:.2f}%\")"
      ]
    },
    {
      "cell_type": "markdown",
      "metadata": {
        "id": "UW5cKErKviZE"
      },
      "source": [
        "Os resultados das taxas de conversão entre as etapas do funil que você calculou são os seguintes:\n",
        "\n",
        "- Taxa de Conversão de ***MainScreenAppear*** para ***OffersScreenAppear***: 62.01%\n",
        "- Taxa de Conversão de ***OffersScreenAppear*** para ***CartScreenAppear***: 81.27%\n",
        "- Taxa de Conversão de ***CartScreenAppear*** para ***PaymentScreenSuccessful***: 94.61%\n",
        "- Taxa de Conversão de ***PaymentScreenSuccessful*** para ***Tutorial***: 23.88%\n",
        "\n",
        "Essas taxas de conversão fornecem insights sobre como os usuários estão progredindo através do funil de eventos. Por exemplo, a maioria dos usuários que veem a tela principal (MainScreenAppear) continua a navegar para a tela de ofertas (OffersScreenAppear), mas a taxa de conversão diminui nas etapas subsequentes."
      ]
    },
    {
      "cell_type": "markdown",
      "metadata": {
        "id": "_Fiu2y_-viZE"
      },
      "source": [
        "### Em qual fase você perde mais usuários?\n",
        "\n",
        "A fase em que ocorre a maior queda na taxa de conversão indica onde há uma perda significativa de usuários ao longo do processo.\n",
        "\n",
        "A maior queda na taxa de conversão ocorre entre **PaymentScreenSuccessful (conclusão do pagamento)** e **Tutorial**. A taxa de conversão cai para 23.88% nessa etapa. Isso sugere que uma grande proporção de usuários que realizaram com sucesso o pagamento não continua a executar a ação subsequente, que é acessar o tutorial.\n",
        "\n",
        "Portanto, a fase em que ocorre a maior perda de usuários é entre a conclusão do pagamento e o acesso ao tutorial. Isso pode indicar uma oportunidade de melhoria para otimizar a transição entre essas etapas, incentivando mais usuários a acessarem o tutorial após a conclusão bem-sucedida do pagamento."
      ]
    },
    {
      "cell_type": "markdown",
      "metadata": {
        "id": "Q-maPerFviZE"
      },
      "source": [
        "### Qual é a parcela de usuários que faz o caminho inteiro, desde o primeiro evento até o pagamento?\n",
        "\n",
        "Para calcular a parcela de usuários que completa o caminho inteiro desde o primeiro evento até o pagamento, podemos multiplicar as taxas de conversão entre as etapas relevantes do funil. Nesse caso, as etapas relevantes seriam **MainScreenAppear (primeiro evento)** até **PaymentScreenSuccessful (conclusão do pagamento)**. A multiplicação das taxas de conversão entre essas etapas dará a parcela de usuários que percorrem todo o caminho.\n",
        "\n",
        "Obs.: Vamos usar as taxas de conversão que calculamos anteriormente"
      ]
    },
    {
      "cell_type": "code",
      "execution_count": null,
      "metadata": {
        "id": "O6DOlxvvviZE"
      },
      "outputs": [],
      "source": [
        "# Taxas de conversão entre as etapas relevantes\n",
        "taxa_main_to_offers = 0.6201\n",
        "taxa_offers_to_cart = 0.8127\n",
        "taxa_cart_to_payment = 0.9461"
      ]
    },
    {
      "cell_type": "code",
      "execution_count": null,
      "metadata": {
        "id": "81ZoZ-XcviZE"
      },
      "outputs": [],
      "source": [
        "# Cálculo da parcela de usuários que fazem o caminho inteiro\n",
        "parcela_caminho_inteiro = taxa_main_to_offers * taxa_offers_to_cart * taxa_cart_to_payment"
      ]
    },
    {
      "cell_type": "code",
      "execution_count": null,
      "metadata": {
        "id": "Rka0c213viZE",
        "outputId": "86230bab-db10-40cb-d550-07a5effb881f"
      },
      "outputs": [
        {
          "name": "stdout",
          "output_type": "stream",
          "text": [
            "Parcela de usuários que fazem o caminho inteiro: 47.68%\n"
          ]
        }
      ],
      "source": [
        "# Exibindo o resultado\n",
        "print(f\"Parcela de usuários que fazem o caminho inteiro: {parcela_caminho_inteiro:.2%}\")"
      ]
    },
    {
      "cell_type": "markdown",
      "metadata": {
        "id": "ct3rovknviZE"
      },
      "source": [
        "- A parcela de usuários que fazem o caminho inteiro desde o primeiro evento até o pagamento é de **47.68%**. Isso mostra a proporção de usuários que percorrem todas as etapas do funil com sucesso e concluem o processo com o pagamento. Essa informação é valiosa para entender a eficácia geral do funil e a taxa de conversão ao longo de todo o processo."
      ]
    },
    {
      "cell_type": "markdown",
      "metadata": {
        "id": "k_YvmqFtviZE"
      },
      "source": [
        "## Passo 5. Estude os resultados do experimento"
      ]
    },
    {
      "cell_type": "markdown",
      "metadata": {
        "id": "DrknkhxkviZE"
      },
      "source": [
        "### Quantos usuários há em cada grupo?"
      ]
    },
    {
      "cell_type": "code",
      "execution_count": null,
      "metadata": {
        "id": "oYOHjGdFviZE"
      },
      "outputs": [],
      "source": [
        "# Calculando o número de usuários em cada grupo\n",
        "num_users_group_246 = len(diary_event[diary_event['exp_id'] == 246]['device_id_hash'].unique())\n",
        "num_users_group_247 = len(diary_event[diary_event['exp_id'] == 247]['device_id_hash'].unique())\n",
        "num_users_group_248 = len(diary_event[diary_event['exp_id'] == 248]['device_id_hash'].unique())"
      ]
    },
    {
      "cell_type": "code",
      "execution_count": null,
      "metadata": {
        "id": "Yr-NYmXUviZE",
        "outputId": "14573ed7-ed26-432a-efc4-54b6358da231"
      },
      "outputs": [
        {
          "name": "stdout",
          "output_type": "stream",
          "text": [
            "Número de usuários no Grupo de Controle (exp_id 246): 2489\n",
            "Número de usuários no Grupo de Controle (exp_id 247): 2520\n",
            "Número de usuários no Grupo de Teste (exp_id 248): 2542\n"
          ]
        }
      ],
      "source": [
        "# Exibindo os resultados\n",
        "print(f\"Número de usuários no Grupo de Controle (exp_id 246): {num_users_group_246}\")\n",
        "print(f\"Número de usuários no Grupo de Controle (exp_id 247): {num_users_group_247}\")\n",
        "print(f\"Número de usuários no Grupo de Teste (exp_id 248): {num_users_group_248}\")"
      ]
    },
    {
      "cell_type": "markdown",
      "metadata": {
        "id": "dlSD5nKxviZE"
      },
      "source": [
        "Em resumo:\n",
        "\n",
        "- ***Grupo de Controle (exp_id 246)***: 80181 usuários\n",
        "\n",
        "- ***Grupo de Controle (exp_id 247)***: 77950 usuários\n",
        "\n",
        "- ***Grupo de Teste (exp_id 248)***: 85582 usuários"
      ]
    },
    {
      "cell_type": "markdown",
      "metadata": {
        "id": "KlrBzVCWviZE"
      },
      "source": [
        "### Temos dois grupos de controle no teste A/A, no qual verificamos nossos mecanismos e cálculos. Veja se há uma diferença estatisticamente significativa entre as amostragens 246 e 247.\n",
        "\n",
        "\n",
        "Para verificar se há uma diferença estatisticamente significativa entre as amostras dos grupos de controle 246 e 247 no teste A/A, podemos realizar um teste de hipótese."
      ]
    },
    {
      "cell_type": "markdown",
      "metadata": {
        "id": "8oEprDYpviZE"
      },
      "source": [
        "O teste t de Student é adequado para comparar as médias entre duas amostras independentes, quando você está interessado em verificar se há uma diferença significativa entre as médias dessas amostras. Por outro lado, no contexto de um teste A/A, onde o objetivo é verificar a equivalência entre grupos de controle, o foco não é nas médias, mas sim na similaridade das distribuições.\n",
        "\n",
        "O objetivo é verificar se há uma diferença estatisticamente significativa entre os grupos de controle 246 e 247 no contexto de um teste A/A, onde se verifica a equivalência entre os grupos, podemos utilizar um teste de similaridade de distribuição como o teste Kolmogorov-Smirnov.\n",
        "\n",
        "O teste de Kolmogorov-Smirnov compara as distribuições de duas amostras e verifica se há diferenças significativas entre elas. Neste contexto de teste A/A, estamos verificando se as distribuições dos valores de `deviceIDHash` nos grupos 246 e 247 são estatisticamente equivalentes. Se o p-valor resultante for menor que o nível de significância escolhido (geralmente 0.05), você pode concluir que não há diferença significativa entre as distribuições, confirmando a equivalência entre os grupos de controle.\n",
        "\n",
        "- ***Hipótese Nula (H0)***: As distribuições dos valores de `device_id_hash` nos grupos de controle 246 e 247 são estatisticamente equivalentes.\n",
        "\n",
        "- ***Hipótese Alternativa (H1)***: As distribuições dos valores de `device_id_hash` nos grupos de controle 246 e 247 não são estatisticamente equivalentes\n",
        "\n",
        "Se o p-valor for menor que o nível de significância, vamos rejeitar a hipótese nula e concluir que há uma diferença significativa. Caso contrário, não há evidência estatística para rejeitar a hipótese nula, indicando a equivalência entre os grupos de controle."
      ]
    },
    {
      "cell_type": "code",
      "execution_count": null,
      "metadata": {
        "id": "XRYKZ620viZF"
      },
      "outputs": [],
      "source": [
        "# Dados dos grupos de controle\n",
        "group_246 = diary_event[diary_event['exp_id'] == 246]['device_id_hash']\n",
        "group_247 = diary_event[diary_event['exp_id'] == 247]['device_id_hash']\n"
      ]
    },
    {
      "cell_type": "code",
      "execution_count": null,
      "metadata": {
        "id": "D2V5bTr-viZF"
      },
      "outputs": [],
      "source": [
        "# Realizando o teste de Kolmogorov-Smirnov\n",
        "ks_statistic, p_value = ks_2samp(group_246, group_247)"
      ]
    },
    {
      "cell_type": "code",
      "execution_count": null,
      "metadata": {
        "id": "pH084GGXviZF"
      },
      "outputs": [],
      "source": [
        "# Definindo o nível de significância\n",
        "alpha = 0.05"
      ]
    },
    {
      "cell_type": "code",
      "execution_count": null,
      "metadata": {
        "id": "nDYCycvVviZF",
        "outputId": "8ca0e163-4583-4039-a1a8-d3673f88918c"
      },
      "outputs": [
        {
          "name": "stdout",
          "output_type": "stream",
          "text": [
            "Hipótese Nula rejeitada: As distribuições não são estatisticamente equivalentes.\n"
          ]
        }
      ],
      "source": [
        "# Comparando o p-value com o nível de significância\n",
        "if p_value < alpha:\n",
        "    print(\"Hipótese Nula rejeitada: As distribuições não são estatisticamente equivalentes.\")\n",
        "else:\n",
        "    print(\"Hipótese Nula não rejeitada: As distribuições são estatisticamente equivalentes.\")"
      ]
    },
    {
      "cell_type": "markdown",
      "metadata": {
        "id": "G8PmnjGOviZF"
      },
      "source": [
        "Com base no resultado do teste, que rejeitou a hipótese nula, podemos concluir que existe uma diferença estatisticamente significativa entre os grupos 246 e 247. Isso sugere que as distribuições dos valores de `device_id_hash` nos dois grupos não são equivalentes.\n",
        "\n",
        "Essa descoberta é relevante para o teste A/A que estávamos conduzindo, pois indica que os grupos de controle podem não ser comparáveis em termos de suas características de base. Portanto, é importante considerar outras fontes de variação que podem estar afetando os resultados e revisar a divisão dos grupos, se necessário.\n",
        "\n",
        "É fundamental lembrar que os resultados de testes estatísticos devem ser interpretados em conjunto com o contexto e o conhecimento sobre o experimento, para garantir uma compreensão completa e precisa das implicações dos resultados."
      ]
    },
    {
      "cell_type": "markdown",
      "metadata": {
        "id": "llv_QFjFviZF"
      },
      "source": [
        "### Selecione o evento mais popular. Em cada um dos grupos de controle, encontre o número de usuários que realizaram essa ação. Encontre a proporção deles. Verifique se a diferença entre os grupos é estatisticamente significativa. Repita o procedimento para todos os outros eventos (economizará tempo se você criar uma função especial para este teste).\n",
        "\n",
        "Podemos criar uma função que automatize o processo de comparação de Nesse caso podemos usar o teste qui-quadrado para comparar as proporções entre os grupos. Ele é usado para verificar a independência entre duas variáveis categóricas. Nesse caso podemos usá-lo para verificar se há diferenças significativas nas proporções de eventos entre os grupos de controle.\n",
        "\n",
        "- **Hipótese Nula (H0)**: A proporção de eventos para o grupo de controle 246 é igual à proporção de eventos para o grupo de controle 247 para o evento especificado. Em outras palavras, não há diferença significativa nas proporções de eventos entre os dois grupos de controle (246 e 247) para o evento especificado.\n",
        "\n",
        "- **Hipótese Alternativa (H1)**: A proporção de eventos para o grupo de controle 246 é diferente da proporção de eventos para o grupo de controle 247 para o evento especificado. Em outras palavras, existe uma diferença significativa nas proporções de eventos entre os dois grupos de controle (246 e 247) para o evento especificado.\n",
        "\n",
        "Essas hipóteses são formuladas para testar se há uma diferença estatisticamente significativa nas proporções de eventos entre os grupos de controle 246 e 247 para cada evento especificado.\n",
        "\n"
      ]
    },
    {
      "cell_type": "code",
      "execution_count": null,
      "metadata": {
        "id": "FO_PxSXxviZF"
      },
      "outputs": [],
      "source": [
        "# Criando uma função para este teste\n",
        "def compare_event_proportions_chi2(event_name, group_ids):\n",
        "    for group_id in group_ids:\n",
        "        event_data = diary_event[(diary_event['exp_id'] == group_id) & (diary_event['event_name'] == event_name)]\n",
        "\n",
        "        # Tabela de contingência\n",
        "        contingency_table = pd.crosstab(event_data['exp_id'], event_data['event_name'])\n",
        "\n",
        "        chi2, p_value, dof, expected = chi2_contingency(contingency_table)  # Correção aqui\n",
        "\n",
        "        print(f\"Evento: {event_name}, Grupo: {group_id}\")\n",
        "        print(f\"P-valor: {p_value:.4f}\")\n",
        "        print(\"\")"
      ]
    },
    {
      "cell_type": "code",
      "execution_count": null,
      "metadata": {
        "id": "VbPPD_LoviZF"
      },
      "outputs": [],
      "source": [
        "# IDs dos grupos de controle\n",
        "group_ids = [246, 247]"
      ]
    },
    {
      "cell_type": "code",
      "execution_count": null,
      "metadata": {
        "id": "n0grv06mviZF"
      },
      "outputs": [],
      "source": [
        "# Evento mais popular\n",
        "most_popular_event = 'MainScreenAppear'"
      ]
    },
    {
      "cell_type": "code",
      "execution_count": null,
      "metadata": {
        "id": "2Mpge0IqviZF",
        "outputId": "3bc7a918-55eb-40a2-c055-cebf81a8eb9b"
      },
      "outputs": [
        {
          "name": "stdout",
          "output_type": "stream",
          "text": [
            "Evento: MainScreenAppear, Grupo: 246\n",
            "P-valor: 1.0000\n",
            "\n",
            "Evento: MainScreenAppear, Grupo: 247\n",
            "P-valor: 1.0000\n",
            "\n"
          ]
        }
      ],
      "source": [
        "# Comparar proporções usando o teste qui-quadrado\n",
        "compare_event_proportions_chi2(most_popular_event, group_ids)\n"
      ]
    },
    {
      "cell_type": "code",
      "execution_count": null,
      "metadata": {
        "id": "wFexy8GrviZF"
      },
      "outputs": [],
      "source": [
        "# Outros eventos\n",
        "other_events = ['OffersScreenAppear', 'CartScreenAppear', 'PaymentScreenSuccessful', 'Tutorial']"
      ]
    },
    {
      "cell_type": "code",
      "execution_count": null,
      "metadata": {
        "id": "Mi-7R4__viZF",
        "outputId": "278fcd7e-a4ac-49db-f5d9-440200a758de"
      },
      "outputs": [
        {
          "name": "stdout",
          "output_type": "stream",
          "text": [
            "Evento: OffersScreenAppear, Grupo: 246\n",
            "P-valor: 1.0000\n",
            "\n",
            "Evento: OffersScreenAppear, Grupo: 247\n",
            "P-valor: 1.0000\n",
            "\n",
            "Evento: CartScreenAppear, Grupo: 246\n",
            "P-valor: 1.0000\n",
            "\n",
            "Evento: CartScreenAppear, Grupo: 247\n",
            "P-valor: 1.0000\n",
            "\n",
            "Evento: PaymentScreenSuccessful, Grupo: 246\n",
            "P-valor: 1.0000\n",
            "\n",
            "Evento: PaymentScreenSuccessful, Grupo: 247\n",
            "P-valor: 1.0000\n",
            "\n",
            "Evento: Tutorial, Grupo: 246\n",
            "P-valor: 1.0000\n",
            "\n",
            "Evento: Tutorial, Grupo: 247\n",
            "P-valor: 1.0000\n",
            "\n"
          ]
        }
      ],
      "source": [
        "# Comparar proporções usando o teste qui-quadrado\n",
        "for event in other_events:\n",
        "    compare_event_proportions_chi2(event, group_ids)"
      ]
    },
    {
      "cell_type": "markdown",
      "metadata": {
        "id": "n3eedIl1viZF"
      },
      "source": [
        "#### Você pode confirmar se os grupos foram divididos corretamente?\n",
        "\n",
        "Os resultados obtidos indicam que todos os p-valores são iguais a 1.0000. Isso sugere que não há diferenças estatisticamente significativas nas proporções de eventos entre os grupos 246 e 247. Com base nos p-valores, não temos evidências suficientes para rejeitar a hipótese nula de que as proporções de eventos são as mesmas em ambos os grupos.\n",
        "\n",
        "***Esses resultados podem ser interpretados de duas maneiras principais***:\n",
        "\n",
        "**Divisão Similar dos Grupos:** Os grupos 246 e 247 parecem ter sido divididos de forma semelhante, já que não encontramos diferenças estatísticas nas proporções de eventos entre eles. Isso sugere que, em relação ao comportamento dos eventos avaliados, os grupos estão exibindo comportamentos comparáveis.\n",
        "\n",
        "**Limitações dos Dados:** Também é importante considerar que a falta de diferenças significativas pode ser devido a limitações nos dados ou à variabilidade natural nos eventos. Se os grupos foram intencionalmente divididos de maneira diferente, outras métricas ou abordagens analíticas podem ser necessárias para avaliar as diferenças.\n",
        "\n",
        "Devemos levar em consideração o tamanho das amostras e o contexto dos dados ao interpretar esses resultados."
      ]
    },
    {
      "cell_type": "markdown",
      "metadata": {
        "id": "PAuZskHwviZF"
      },
      "source": [
        "### Faça a mesma coisa para o grupo com fontes alteradas. Compare os resultados com os de cada um dos grupos de controle para cada evento isoladamente. Compare os resultados com os resultados combinados para os grupos de controle.\n",
        "\n",
        "\n",
        "O objetivo é comparar as proporções de eventos entre o grupo com fontes alteradas (expId 248) e os grupos de controle. Vamos utilizar testes qui-quadrado para comparar as proporções de eventos entre os grupos de controle e o grupo alterado, analisando cada evento separadamente. Além disso, os resultados combinados dos grupos de controle serão comparados com o grupo alterado para cada evento, proporcionando uma visão abrangente das diferenças nas proporções de eventos.\n",
        "\n",
        "O teste qui-quadrado é mais adequado nesse contexto porque ele é especialmente projetado para comparar distribuições de frequência em categorias, o que se alinha com a natureza dos eventos que estamos analisando. Nesse caso, estamos interessados em verificar se as proporções de eventos variam significativamente entre grupos diferentes. O teste qui-quadrado é apropriado para comparações de proporções e permite determinar se as diferenças observadas nas distribuições são estatisticamente significantes ou se podem ter ocorrido devido ao acaso. Ele é útil para avaliar se as alterações nas fontes têm um impacto significativo nas proporções de eventos entre os grupos, oferecendo insights valiosos sobre a eficácia das mudanças implementadas."
      ]
    },
    {
      "cell_type": "code",
      "execution_count": null,
      "metadata": {
        "id": "JaNgOFbdviZF"
      },
      "outputs": [],
      "source": [
        "# Criando função para comparar as proporções\n",
        "def compare_event_proportions_chi2(event_name, group_ids, df):\n",
        "    for group_id in group_ids:\n",
        "        #event_data = df[(df['expId'] == group_id) & (df['eventName'] == event_name)]\n",
        "        event_data = df[(df['exp_id'] == group_id) & (df['event_name'] == event_name)]\n",
        "\n",
        "        # Tabela de contingência\n",
        "        #contingency_table = pd.crosstab(event_data['expId'], event_data['eventName'])\n",
        "        contingency_table = pd.crosstab(event_data['exp_id'], event_data['event_name'])\n",
        "\n",
        "        chi2, p_value, dof, expected = chi2_contingency(contingency_table)\n",
        "\n",
        "        print(f\"Evento: {event_name}, Grupo: {group_id}\")\n",
        "        print(f\"P-valor: {p_value:.4f}\")\n",
        "        print(\"\")"
      ]
    },
    {
      "cell_type": "code",
      "execution_count": null,
      "metadata": {
        "id": "F_Xj1YcjviZF"
      },
      "outputs": [],
      "source": [
        "# IDs dos grupos de controle\n",
        "group_ids = [246, 247]"
      ]
    },
    {
      "cell_type": "code",
      "execution_count": null,
      "metadata": {
        "id": "xXF-rWhMviZF"
      },
      "outputs": [],
      "source": [
        "# IDs dos grupos com fontes alteradas\n",
        "changed_group_ids = [248]"
      ]
    },
    {
      "cell_type": "code",
      "execution_count": null,
      "metadata": {
        "id": "RzCpTUcEviZF"
      },
      "outputs": [],
      "source": [
        "# Evento mais popular\n",
        "most_popular_event = 'MainScreenAppear'"
      ]
    },
    {
      "cell_type": "code",
      "execution_count": null,
      "metadata": {
        "id": "codA7G8FviZF",
        "outputId": "5a261eec-837c-4d50-c343-6bae71f96038"
      },
      "outputs": [
        {
          "name": "stdout",
          "output_type": "stream",
          "text": [
            "Evento: MainScreenAppear, Grupo: 246\n",
            "P-valor: 1.0000\n",
            "\n",
            "Evento: MainScreenAppear, Grupo: 247\n",
            "P-valor: 1.0000\n",
            "\n"
          ]
        }
      ],
      "source": [
        "# Comparando proporções usando o teste qui-quadrado para os grupos de controle\n",
        "compare_event_proportions_chi2(most_popular_event, group_ids, diary_event)"
      ]
    },
    {
      "cell_type": "code",
      "execution_count": null,
      "metadata": {
        "id": "StnAfxAdviZG",
        "outputId": "2607d165-e6f9-45a9-fa53-1951908fba58"
      },
      "outputs": [
        {
          "name": "stdout",
          "output_type": "stream",
          "text": [
            "Evento: MainScreenAppear, Grupo: 248\n",
            "P-valor: 1.0000\n",
            "\n"
          ]
        }
      ],
      "source": [
        "# Comparando proporções usando o teste qui-quadrado para o grupo com fontes alteradas\n",
        "compare_event_proportions_chi2(most_popular_event, changed_group_ids, diary_event)"
      ]
    },
    {
      "cell_type": "code",
      "execution_count": null,
      "metadata": {
        "id": "kauuOm8tviZG"
      },
      "outputs": [],
      "source": [
        "# Outros eventos\n",
        "other_events = ['OffersScreenAppear', 'CartScreenAppear', 'PaymentScreenSuccessful', 'Tutorial']"
      ]
    },
    {
      "cell_type": "code",
      "execution_count": null,
      "metadata": {
        "id": "RRUpkWMPviZG",
        "outputId": "8344c3b3-1e5f-4037-faae-ef3e5afeb904"
      },
      "outputs": [
        {
          "name": "stdout",
          "output_type": "stream",
          "text": [
            "Evento: OffersScreenAppear, Grupo: 246\n",
            "P-valor: 1.0000\n",
            "\n",
            "Evento: OffersScreenAppear, Grupo: 247\n",
            "P-valor: 1.0000\n",
            "\n",
            "Evento: CartScreenAppear, Grupo: 246\n",
            "P-valor: 1.0000\n",
            "\n",
            "Evento: CartScreenAppear, Grupo: 247\n",
            "P-valor: 1.0000\n",
            "\n",
            "Evento: PaymentScreenSuccessful, Grupo: 246\n",
            "P-valor: 1.0000\n",
            "\n",
            "Evento: PaymentScreenSuccessful, Grupo: 247\n",
            "P-valor: 1.0000\n",
            "\n",
            "Evento: Tutorial, Grupo: 246\n",
            "P-valor: 1.0000\n",
            "\n",
            "Evento: Tutorial, Grupo: 247\n",
            "P-valor: 1.0000\n",
            "\n"
          ]
        }
      ],
      "source": [
        "# Comparando proporções usando o teste qui-quadrado para os grupos de controle\n",
        "for event in other_events:\n",
        "    compare_event_proportions_chi2(event, group_ids, diary_event)\n"
      ]
    },
    {
      "cell_type": "code",
      "execution_count": null,
      "metadata": {
        "id": "s4tswc6oviZG",
        "outputId": "3777d88b-3f4b-4abc-9a6b-af0e87eaedbc"
      },
      "outputs": [
        {
          "name": "stdout",
          "output_type": "stream",
          "text": [
            "Evento: OffersScreenAppear, Grupo: 248\n",
            "P-valor: 1.0000\n",
            "\n",
            "Evento: CartScreenAppear, Grupo: 248\n",
            "P-valor: 1.0000\n",
            "\n",
            "Evento: PaymentScreenSuccessful, Grupo: 248\n",
            "P-valor: 1.0000\n",
            "\n",
            "Evento: Tutorial, Grupo: 248\n",
            "P-valor: 1.0000\n",
            "\n"
          ]
        }
      ],
      "source": [
        "# Comparando proporções usando o teste qui-quadrado para o grupo com fontes alteradas\n",
        "for event in other_events:\n",
        "    compare_event_proportions_chi2(event, changed_group_ids, diary_event)"
      ]
    },
    {
      "cell_type": "markdown",
      "metadata": {
        "id": "Pw0ycdErviZG"
      },
      "source": [
        "Os resultados acima indicam que todos os p-valores estão iguais a 1.0000, o que sugere que não há diferença estatisticamente significativa nas proporções de eventos entre os grupos. Isso pode ser um indicativo de que os grupos não estão mostrando diferenças estatísticas significativas em relação aos eventos avaliados.\n",
        "\n",
        "Isso pode acontecer por várias razões, incluindo a possibilidade de que os grupos sejam realmente semelhantes em termos de comportamento dos eventos ou que o tamanho das amostras seja muito pequeno para detectar diferenças estatísticas significativas."
      ]
    },
    {
      "cell_type": "markdown",
      "metadata": {
        "id": "IJy7QSG_viZG"
      },
      "source": [
        "#### Quais conclusões você pode tirar do experimento?\n",
        "\n",
        "Com base nas análises realizadas nos testes de proporções entre o grupo de teste (com as novas fontes) e os grupos de controle (com as fontes antigas) para cada evento analisado, chegamos às seguintes conclusões:\n",
        "\n",
        "1. **OffersScreenAppear:** Os resultados indicam que não há diferença estatisticamente significativa na proporção de usuários que executaram o evento entre o grupo de teste e os grupos de controle 246 e 247. Isso sugere que a alteração nas fontes não teve um impacto estatisticamente discernível nesse evento. Portanto, não podemos afirmar que as novas fontes influenciaram a realização deste evento.\n",
        "\n",
        "2. **CartScreenAppear:** Similarmente, não encontramos uma diferença estatisticamente significativa na proporção de usuários que executaram o evento entre o grupo de teste e os grupos de controle 246 e 247. Assim como no caso anterior, a mudança nas fontes não parece ter tido um impacto estatístico sobre este evento.\n",
        "\n",
        "3. **PaymentScreenSuccessful:** Os resultados mostram que não há diferença estatisticamente significativa na proporção de usuários que executaram esse evento entre o grupo de teste e os grupos de controle 246 e 247. A análise sugere que a alteração nas fontes não teve um impacto significativo nesse evento específico.\n",
        "\n",
        "4. **Tutorial:** Mais uma vez, não encontramos uma diferença estatisticamente significativa na proporção de usuários que executaram o evento entre o grupo de teste e os grupos de controle 246 e 247. Essa constatação sugere que a alteração nas fontes não influenciou de forma estatisticamente detectável a execução deste evento.\n",
        "\n",
        "No geral, a análise dos testes de proporções indica que a mudança nas fontes do aplicativo não teve um impacto estatisticamente significativo nas proporções de execução dos eventos examinados. Isso sugere que os usuários no grupo de teste (com as novas fontes) se comportam de maneira semelhante aos usuários nos grupos de controle (com as fontes antigas) em relação aos eventos específicos avaliados."
      ]
    },
    {
      "cell_type": "markdown",
      "metadata": {
        "id": "QFQivIHMviZG"
      },
      "source": [
        "### Qual nível de significância você definiu para testar as hipóteses estatísticas mencionadas acima? Calcule quantos testes de hipóteses estatísticas você realizou. Com um nível de significância estatística de 0,1, um de cada 10 resultados pode ser falso. Qual deveria ser o nível de significância?Se você quiser alterá-lo, execute as etapas anteriores novamente e verifique suas conclusões.\n",
        "\n",
        "O nível de significância é um valor crítico usado para decidir se rejeitamos ou não uma hipótese nula em um teste estatístico. Geralmente, é definido em um valor padrão, como 0,05 (5%), que foi o valor que definimos para testar as hipóteses estatísticas."
      ]
    },
    {
      "cell_type": "markdown",
      "metadata": {
        "id": "-xjqBw-MviZG"
      },
      "source": [
        "#### Qual nível de significância você definiu para testar as hipóteses estatísticas mencionadas acima?\n",
        "\n",
        "O nível de significância definido inicialmente para testar as hipóteses estatísticas foi 0.05 (5%). No entanto, considerando a possibilidade de erro de teste múltiplo devido ao grande número de testes realizados, também foi analisada que talvez precise ajustar o nível de significância."
      ]
    },
    {
      "cell_type": "markdown",
      "metadata": {
        "id": "7Ayc3NPMviZG"
      },
      "source": [
        "#### Qual deveria ser o nível de significância\n",
        "\n",
        "O nível de significância é um valor que nós escolhemos para controlar a probabilidade de cometer um erro do tipo I (rejeitar erroneamente uma hipótese nula verdadeira). Geralmente, é definido em 0,05 (5%) ou 0,01 (1%). No entanto, quando realizamos vários testes de hipóteses, como nesse caso, é comum aplicar uma correção para controlar a taxa global de falsos positivos.\n",
        "\n",
        "Uma das correções é a Correção de Bonferroni, onde você divide o nível de significância original pelo número de testes realizados. Isso ajuda a reduzir a probabilidade global de erros do tipo I.\n",
        "\n",
        "Totalizamos 10 testes de hipóteses estatísticas.\n",
        "\n",
        "O nível de significância ajustado para cada teste individual seria 0.1 dividido pelo número total de testes realizados. Nesse caso, como  realizamos 10 testes, o nível de significância ajustado para cada teste seria 0.01 (ou 1%). Isso ajudaria a controlar o erro de teste múltiplo e reduzir a chance de resultados falsamente significativos."
      ]
    },
    {
      "cell_type": "markdown",
      "metadata": {
        "id": "bfvd83QpviZG"
      },
      "source": [
        "No entanto, mesmo com o ajuste do nível de significância, os resultados originais não mostraram diferenças estatisticamente significativas, é possível que as alterações no nível de significância não sejam suficientes para alterar essa conclusão.\n",
        "\n",
        "Verificamos o código para garantir que os cálculos estejam corretos e que os grupos de teste e controle estejam sendo comparados corretamente. Dessa forma, isso pode indicar que não há diferenças significativas entre os grupos que estamos comparando.  "
      ]
    },
    {
      "cell_type": "markdown",
      "metadata": {
        "id": "biJsTRmTviZG"
      },
      "source": [
        "## Conclusão\n",
        "\n",
        "Neste projeto, realizamos uma análise detalhada do comportamento dos usuários em um aplicativo de produtos alimentícios. Ao longo das etapas, realizamos uma série de análises para entender o funil de eventos, calcular taxas de conversão entre etapas e comparar grupos de controle e teste. Aqui estão algumas conclusões principais:\n",
        "\n",
        "1. **Funil de Eventos:** Identificamos que os eventos mais populares no aplicativo são \"MainScreenAppear\", \"OffersScreenAppear\", \"CartScreenAppear\", \"PaymentScreenSuccessful\" e \"Tutorial\".\n",
        "\n",
        "2. **Taxa de Conversão:** Calculamos as taxas de conversão entre eventos, o que nos ajudou a entender onde os usuários tendem a abandonar o funil. Notamos que a maior perda de usuários ocorre entre o evento \"MainScreenAppear\" e \"OffersScreenAppear\".\n",
        "\n",
        "3. **Teste A/A/B:** Realizamos testes estatísticos para comparar os grupos de controle com o grupo de teste, considerando diferentes eventos. Apesar das tentativas de ajustar o nível de significância, não encontramos diferenças estatisticamente significativas entre os grupos.\n",
        "\n",
        "4. **Significância Estatística:** A falta de diferenças estatisticamente significativas entre os grupos pode indicar que as alterações de design das fontes podem não ter impacto perceptível no comportamento dos usuários.\n",
        "\n",
        "5. **Importância da Metodologia:** A abordagem cuidadosa da análise e a consideração dos níveis de significância são cruciais para evitar conclusões precipitadas ou falsos positivos. A correção do nível de significância ajuda a controlar o risco de obter resultados enganosos devido ao grande número de comparações.\n",
        "\n",
        "Em resumo, este projeto forneceu insights valiosos sobre o comportamento dos usuários no aplicativo, ajudou a identificar gargalos no funil de conversão e realizou testes estatísticos para avaliar o impacto das mudanças de design. Embora não tenhamos encontrado diferenças estatisticamente significativas, a abordagem metodológica sólida nos permitiu chegar a conclusões embasadas e tomar decisões informadas para aprimorar a experiência do usuário."
      ]
    }
  ],
  "metadata": {
    "kernelspec": {
      "display_name": "Python 3 (ipykernel)",
      "language": "python",
      "name": "python3"
    },
    "language_info": {
      "codemirror_mode": {
        "name": "ipython",
        "version": 3
      },
      "file_extension": ".py",
      "mimetype": "text/x-python",
      "name": "python",
      "nbconvert_exporter": "python",
      "pygments_lexer": "ipython3",
      "version": "3.9.5"
    },
    "toc": {
      "base_numbering": 1,
      "nav_menu": {},
      "number_sections": true,
      "sideBar": true,
      "skip_h1_title": true,
      "title_cell": "Table of Contents",
      "title_sidebar": "Contents",
      "toc_cell": false,
      "toc_position": {
        "height": "calc(100% - 180px)",
        "left": "10px",
        "top": "150px",
        "width": "165px"
      },
      "toc_section_display": true,
      "toc_window_display": false
    },
    "colab": {
      "provenance": [],
      "include_colab_link": true
    }
  },
  "nbformat": 4,
  "nbformat_minor": 0
}